{
  "cells": [
    {
      "cell_type": "markdown",
      "metadata": {
        "id": "view-in-github",
        "colab_type": "text"
      },
      "source": [
        "<a href=\"https://colab.research.google.com/github/Utkarshso/AI-Chatbot/blob/main/Ollama.ipynb\" target=\"_parent\"><img src=\"https://colab.research.google.com/assets/colab-badge.svg\" alt=\"Open In Colab\"/></a>"
      ]
    },
    {
      "cell_type": "markdown",
      "source": [
        "**Step** **1** Install Ollama\n"
      ],
      "metadata": {
        "id": "Ptw95hFBQwkD"
      }
    },
    {
      "cell_type": "code",
      "execution_count": null,
      "metadata": {
        "id": "enXj2n81cTqj"
      },
      "outputs": [],
      "source": [
        "!curl -fsSL https://ollama.ai/install.sh | sh"
      ]
    },
    {
      "cell_type": "markdown",
      "source": [
        "**Step** **2** Setup ngrok"
      ],
      "metadata": {
        "id": "5WpTPRgJRVBx"
      }
    },
    {
      "cell_type": "code",
      "execution_count": null,
      "metadata": {
        "id": "zDCQotpwcXHO"
      },
      "outputs": [],
      "source": [
        "!wget -q https://bin.equinox.io/c/bNyj1mQVY4c/ngrok-v3-stable-linux-amd64.tgz\n",
        "!tar -xzf ngrok-v3-stable-linux-amd64.tgz ngrok"
      ]
    },
    {
      "cell_type": "markdown",
      "source": [
        "**Step** **3** ngrok token setup"
      ],
      "metadata": {
        "id": "qNYnPUEwRi9l"
      }
    },
    {
      "cell_type": "code",
      "execution_count": null,
      "metadata": {
        "id": "bLZn6-8jcfJB"
      },
      "outputs": [],
      "source": [
        "!./ngrok authtoken <authtoken from ngrok>"
      ]
    },
    {
      "cell_type": "markdown",
      "source": [
        "**Step** **4** Downloading Ollama serve and model  "
      ],
      "metadata": {
        "id": "VWglsEuBRt8m"
      }
    },
    {
      "cell_type": "code",
      "execution_count": null,
      "metadata": {
        "id": "up-gAGNNdCY6"
      },
      "outputs": [],
      "source": [
        "!ollama serve & ./ngrok http 11434 --host-header=\"localhost:11434\" --log stdout & sleep 5s && ollama run llama3.2\n"
      ]
    }
  ],
  "metadata": {
    "colab": {
      "provenance": [],
      "gpuType": "T4",
      "authorship_tag": "ABX9TyOaf/0/2fC4NLuYtgx11aWw",
      "include_colab_link": true
    },
    "kernelspec": {
      "display_name": "Python 3",
      "name": "python3"
    },
    "language_info": {
      "name": "python"
    },
    "accelerator": "GPU"
  },
  "nbformat": 4,
  "nbformat_minor": 0
}